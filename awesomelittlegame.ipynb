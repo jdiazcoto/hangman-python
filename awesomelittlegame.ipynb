{
 "cells": [
  {
   "cell_type": "markdown",
   "id": "247c9937",
   "metadata": {},
   "source": [
    "## Simple hangman python project\n",
    "About Hangman\n",
    "Going back to our old school days, some of the pen-paper games were always a top for our leisure time. Hangman was one, other than some chit games, to guess words according to the guesses determined and as soon as they lost all their wrong guesses, they were hanged (not really, but on paper 😉). That is an old way, now to play Hangman"
   ]
  },
  {
   "cell_type": "code",
   "execution_count": 15,
   "id": "50e31c5e",
   "metadata": {},
   "outputs": [],
   "source": [
    "#Necessary imports\n",
    "import random\n",
    "import time\n"
   ]
  },
  {
   "cell_type": "code",
   "execution_count": 16,
   "id": "d07fb4a6",
   "metadata": {},
   "outputs": [],
   "source": [
    "#Import list\n",
    "import pandas as pd\n",
    "df = pd.read_excel('data.xlsx')"
   ]
  },
  {
   "cell_type": "code",
   "execution_count": 17,
   "id": "9ea288cc",
   "metadata": {},
   "outputs": [],
   "source": [
    "words_list = df['WORDS'].tolist()"
   ]
  },
  {
   "cell_type": "markdown",
   "id": "f0e51b67",
   "metadata": {},
   "source": [
    "## Code Explanation: FUNCTION main()\n",
    "\n",
    "    *We define the main function that initializes the arguments: global count, global display, global word, global    \n",
    "    already_guessed, global length and global play_game. They can be used further in other functions too depending on how we \n",
    "    want to call them.\n",
    "    *Words_to_guess: Contains all the Hangman words we want the user to guess in the game.\n",
    "    *Word: we use the random module in this variable to randomly choose the word from words_to_guess in the game. \n",
    "    *Length: len() helps us to get the length of the string.\n",
    "    *Count: is initialized to zero and would increment in the further code.\n",
    "    *Display: This draws a line for us according to the length of the word to guess.\n",
    "    *Already_guessed: This would contain the string indices of the correctly guessed words."
   ]
  },
  {
   "cell_type": "code",
   "execution_count": 10,
   "id": "ffe01b6d",
   "metadata": {},
   "outputs": [],
   "source": [
    "def main():\n",
    "    global count\n",
    "    global display\n",
    "    global word\n",
    "    global already_guessed\n",
    "    global length\n",
    "    global play_game\n",
    "    words_to_guess = [\"january\",\"border\",\"image\",\"film\",\"promise\",\"kids\",\"lungs\",\"doll\",\"rhyme\",\"damage\",\"plants\"]\n",
    "    word = random.choice(words_to_guess)\n",
    "    length = len(word)\n",
    "    count = 0\n",
    "    display = '_' * length\n",
    "    already_guessed = []\n",
    "    play_game = \"\"\n"
   ]
  },
  {
   "cell_type": "markdown",
   "id": "3617f67a",
   "metadata": {},
   "source": [
    "## Code Explanation: FUNCTION play_loop()\n",
    "    *Play_loop: This function takes in the argument of play_game.\n",
    "    *Play_game: We use this argument to either continue the game after it is played once or end it according to what the user \n",
    "    suggests.\n",
    "    *While loop is used to execute the play_game argument. It takes the parameter, y=yes and n=no. If the user gives an input \n",
    "    of something else other than y/n, it asks the question again for the appropriate answer. If the user inputs “y”, the game \n",
    "    restarts, otherwise the game ends."
   ]
  },
  {
   "cell_type": "code",
   "execution_count": 12,
   "id": "1de2f879",
   "metadata": {},
   "outputs": [],
   "source": [
    "# A loop to re-execute the game when the first round ends:\n",
    "def play_loop():\n",
    "    global play_game\n",
    "    play_game = input(\"Do You want to play again? y = yes, n = no \\n\")\n",
    "    while play_game not in [\"y\", \"n\",\"Y\",\"N\"]:\n",
    "        play_game = input(\"Do You want to play again? y = yes, n = no \\n\")\n",
    "    if play_game == \"y\":\n",
    "        main()\n",
    "    elif play_game == \"n\":\n",
    "        print(\"Thanks For Playing! We expect you back again!\")\n",
    "        exit()"
   ]
  },
  {
   "cell_type": "code",
   "execution_count": null,
   "id": "80126e1a",
   "metadata": {},
   "outputs": [],
   "source": [
    "# Initializing all the conditions required for the game:\n",
    "def hangman():\n",
    "    global count\n",
    "    global display\n",
    "    global word\n",
    "    global already_guessed\n",
    "    global play_game\n",
    "    limit = 5\n",
    "    guess = input(\"This is the Hangman Word: \" + display + \" Enter your guess: \\n\")\n",
    "    guess = guess.strip()\n",
    "    if len(guess.strip()) == 0 or len(guess.strip()) >= 2 or guess <= \"9\":\n",
    "        print(\"Invalid Input, Try a letter\\n\")\n",
    "        hangman()\n",
    "    elif guess in word:\n",
    "        already_guessed.extend([guess])\n",
    "        index = word.find(guess)\n",
    "        word = word[:index] + \"_\" + word[index + 1:]\n",
    "        display = display[:index] + guess + display[index + 1:]\n",
    "        print(display + \"\\n\")\n",
    "    elif guess in already_guessed:\n",
    "        print(\"Try another letter.\\n\")\n",
    "    else:\n",
    "        count += 1\n",
    "        if count == 1:\n",
    "            time.sleep(1)\n",
    "            print(\"   _____ \\n\"\n",
    "                  \"  |      \\n\"\n",
    "                  \"  |      \\n\"\n",
    "                  \"  |      \\n\"\n",
    "                  \"  |      \\n\"\n",
    "                  \"  |      \\n\"\n",
    "                  \"  |      \\n\"\n",
    "                  \"__|__\\n\")\n",
    "            print(\"Wrong guess. \" + str(limit - count) + \" guesses remaining\\n\")\n",
    "        elif count == 2:\n",
    "            time.sleep(1)\n",
    "            print(\"   _____ \\n\"\n",
    "                  \"  |     | \\n\"\n",
    "                  \"  |     |\\n\"\n",
    "                  \"  |      \\n\"\n",
    "                  \"  |      \\n\"\n",
    "                  \"  |      \\n\"\n",
    "                  \"  |      \\n\"\n",
    "                  \"__|__\\n\")\n",
    "            print(\"Wrong guess. \" + str(limit - count) + \" guesses remaining\\n\")\n",
    "        elif count == 3:\n",
    "           time.sleep(1)\n",
    "           print(\"   _____ \\n\"\n",
    "                 \"  |     | \\n\"\n",
    "                 \"  |     |\\n\"\n",
    "                 \"  |     | \\n\"\n",
    "                 \"  |      \\n\"\n",
    "                 \"  |      \\n\"\n",
    "                 \"  |      \\n\"\n",
    "                 \"__|__\\n\")\n",
    "           print(\"Wrong guess. \" + str(limit - count) + \" guesses remaining\\n\")\n",
    "        elif count == 4:\n",
    "            time.sleep(1)\n",
    "            print(\"   _____ \\n\"\n",
    "                  \"  |     | \\n\"\n",
    "                  \"  |     |\\n\"\n",
    "                  \"  |     | \\n\"\n",
    "                  \"  |     O \\n\"\n",
    "                  \"  |      \\n\"\n",
    "                  \"  |      \\n\"\n",
    "                  \"__|__\\n\")\n",
    "            print(\"Wrong guess. \" + str(limit - count) + \" last guess remaining\\n\")\n",
    "        elif count == 5:\n",
    "            time.sleep(1)\n",
    "            print(\"   _____ \\n\"\n",
    "                  \"  |     | \\n\"\n",
    "                  \"  |     |\\n\"\n",
    "                  \"  |     | \\n\"\n",
    "                  \"  |     O \\n\"\n",
    "                  \"  |    /|\\ \\n\"\n",
    "                  \"  |    / \\ \\n\"\n",
    "                  \"__|__\\n\")\n",
    "            print(\"Wrong guess. You are hanged!!!\\n\")\n",
    "            print(\"The word was:\",already_guessed,word)\n",
    "            play_loop()\n",
    "    if word == '_' * length:\n",
    "        print(\"Congrats! You have guessed the word correctly!\")\n",
    "        play_loop()\n",
    "    elif count != limit:\n",
    "        hangman()\n",
    "    "
   ]
  },
  {
   "cell_type": "code",
   "execution_count": 18,
   "id": "b3bc4b15",
   "metadata": {},
   "outputs": [
    {
     "name": "stdout",
     "output_type": "stream",
     "text": [
      "\n",
      "Welcome to Hangman game by DataFlair\n",
      "\n"
     ]
    },
    {
     "name": "stdin",
     "output_type": "stream",
     "text": [
      "Enter your name:  Jorge\n"
     ]
    },
    {
     "name": "stdout",
     "output_type": "stream",
     "text": [
      "Hello Jorge! Best of Luck!\n",
      "The game is about to start!\n",
      " Let's play Hangman!\n"
     ]
    },
    {
     "name": "stdin",
     "output_type": "stream",
     "text": [
      "This is the Hangman Word: ____ Enter your guess: \n",
      " j\n"
     ]
    },
    {
     "name": "stdout",
     "output_type": "stream",
     "text": [
      "   _____ \n",
      "  |      \n",
      "  |      \n",
      "  |      \n",
      "  |      \n",
      "  |      \n",
      "  |      \n",
      "__|__\n",
      "\n",
      "Wrong guess. 4 guesses remaining\n",
      "\n"
     ]
    },
    {
     "name": "stdin",
     "output_type": "stream",
     "text": [
      "This is the Hangman Word: ____ Enter your guess: \n",
      " h\n"
     ]
    },
    {
     "name": "stdout",
     "output_type": "stream",
     "text": [
      "   _____ \n",
      "  |     | \n",
      "  |     |\n",
      "  |      \n",
      "  |      \n",
      "  |      \n",
      "  |      \n",
      "__|__\n",
      "\n",
      "Wrong guess. 3 guesses remaining\n",
      "\n"
     ]
    },
    {
     "name": "stdin",
     "output_type": "stream",
     "text": [
      "This is the Hangman Word: ____ Enter your guess: \n",
      " g\n"
     ]
    },
    {
     "name": "stdout",
     "output_type": "stream",
     "text": [
      "   _____ \n",
      "  |     | \n",
      "  |     |\n",
      "  |     | \n",
      "  |      \n",
      "  |      \n",
      "  |      \n",
      "__|__\n",
      "\n",
      "Wrong guess. 2 guesses remaining\n",
      "\n"
     ]
    },
    {
     "name": "stdin",
     "output_type": "stream",
     "text": [
      "This is the Hangman Word: ____ Enter your guess: \n",
      " f\n"
     ]
    },
    {
     "name": "stdout",
     "output_type": "stream",
     "text": [
      "f___\n",
      "\n"
     ]
    },
    {
     "name": "stdin",
     "output_type": "stream",
     "text": [
      "This is the Hangman Word: f___ Enter your guess: \n",
      " e\n"
     ]
    },
    {
     "name": "stdout",
     "output_type": "stream",
     "text": [
      "   _____ \n",
      "  |     | \n",
      "  |     |\n",
      "  |     | \n",
      "  |     O \n",
      "  |      \n",
      "  |      \n",
      "__|__\n",
      "\n",
      "Wrong guess. 1 last guess remaining\n",
      "\n"
     ]
    },
    {
     "name": "stdin",
     "output_type": "stream",
     "text": [
      "This is the Hangman Word: f___ Enter your guess: \n",
      " a\n"
     ]
    },
    {
     "name": "stdout",
     "output_type": "stream",
     "text": [
      "   _____ \n",
      "  |     | \n",
      "  |     |\n",
      "  |     | \n",
      "  |     O \n",
      "  |    /|\\ \n",
      "  |    / \\ \n",
      "__|__\n",
      "\n",
      "Wrong guess. You are hanged!!!\n",
      "\n",
      "The word was: ['f'] _ilm\n"
     ]
    },
    {
     "name": "stdin",
     "output_type": "stream",
     "text": [
      "Do You want to play again? y = yes, n = no \n",
      " n\n"
     ]
    },
    {
     "name": "stdout",
     "output_type": "stream",
     "text": [
      "Thanks For Playing! We expect you back again!\n"
     ]
    }
   ],
   "source": [
    "# Initial Steps to invite in the game:\n",
    "print(\"\\nWelcome to Hangman game by DataFlair\\n\")\n",
    "name = input(\"Enter your name: \")\n",
    "print(\"Hello \" + name + \"! Best of Luck!\")\n",
    "time.sleep(2)\n",
    "print(\"The game is about to start!\\n Let's play Hangman!\")\n",
    "time.sleep(3)\n",
    "main()\n",
    "hangman()"
   ]
  },
  {
   "cell_type": "code",
   "execution_count": null,
   "id": "67815842",
   "metadata": {},
   "outputs": [],
   "source": []
  }
 ],
 "metadata": {
  "kernelspec": {
   "display_name": "Python 3",
   "language": "python",
   "name": "python3"
  },
  "language_info": {
   "codemirror_mode": {
    "name": "ipython",
    "version": 3
   },
   "file_extension": ".py",
   "mimetype": "text/x-python",
   "name": "python",
   "nbconvert_exporter": "python",
   "pygments_lexer": "ipython3",
   "version": "3.8.5"
  }
 },
 "nbformat": 4,
 "nbformat_minor": 5
}
